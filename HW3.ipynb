{
  "nbformat": 4,
  "nbformat_minor": 0,
  "metadata": {
    "colab": {
      "provenance": [],
      "authorship_tag": "ABX9TyOrjezfhuPMuoiQRRS0MUlR",
      "include_colab_link": true
    },
    "kernelspec": {
      "name": "python3",
      "display_name": "Python 3"
    },
    "language_info": {
      "name": "python"
    }
  },
  "cells": [
    {
      "cell_type": "markdown",
      "metadata": {
        "id": "view-in-github",
        "colab_type": "text"
      },
      "source": [
        "<a href=\"https://colab.research.google.com/github/max1nehour/-/blob/main/HW3.ipynb\" target=\"_parent\"><img src=\"https://colab.research.google.com/assets/colab-badge.svg\" alt=\"Open In Colab\"/></a>"
      ]
    },
    {
      "cell_type": "code",
      "execution_count": 1,
      "metadata": {
        "colab": {
          "base_uri": "https://localhost:8080/"
        },
        "id": "VP6Eh6HzCrB8",
        "outputId": "2bd3044f-e8b8-47c6-d61f-73898b03cd0e"
      },
      "outputs": [
        {
          "output_type": "stream",
          "name": "stdout",
          "text": [
            "Original array:  [33, 67, 8, 13, 54, 119, 3, 84, 25, 41]\n",
            "pivot:  33\n",
            "less:  [8, 13, 3, 25]\n",
            "greater:  [67, 54, 119, 84, 41]\n",
            "pivot:  8\n",
            "less:  [3]\n",
            "greater:  [13, 25]\n",
            "pivot:  13\n",
            "less:  []\n",
            "greater:  [25]\n",
            "pivot:  67\n",
            "less:  [54, 41]\n",
            "greater:  [119, 84]\n",
            "pivot:  54\n",
            "less:  [41]\n",
            "greater:  []\n",
            "pivot:  119\n",
            "less:  [84]\n",
            "greater:  []\n",
            "Sorted array:  [3, 8, 13, 25, 33, 41, 54, 67, 84, 119]\n"
          ]
        }
      ],
      "source": [
        "def quick_sort(arr):\n",
        "    if len(arr) <= 1:\n",
        "        return arr # 如果列表中只有一個元素或沒有元素，直接返回該列表\n",
        "    else:\n",
        "        pivot = arr[0] # 設定基準點為列表第一個元素\n",
        "        less = [x for x in arr[1:] if x <= pivot] # 小於等於基準點的元素\n",
        "        greater = [x for x in arr[1:] if x > pivot] # 大於基準點的元素\n",
        "        # 在排序過程中顯示過程\n",
        "        print(\"pivot: \", pivot)\n",
        "        print(\"less: \", less)\n",
        "        print(\"greater: \", greater)\n",
        "        return quick_sort(less) + [pivot] + quick_sort(greater) # 進行遞迴排序，直到所有元素都排序完成\n",
        "\n",
        "# 測試程式碼\n",
        "arr = [33, 67, 8, 13, 54, 119, 3, 84, 25, 41]\n",
        "print(\"Original array: \", arr)\n",
        "sorted_arr = quick_sort(arr)\n",
        "print(\"Sorted array: \", sorted_arr)"
      ]
    }
  ]
}